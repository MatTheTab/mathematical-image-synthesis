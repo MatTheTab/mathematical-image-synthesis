{
 "cells": [
  {
   "cell_type": "code",
   "execution_count": 1,
   "id": "18510c05",
   "metadata": {},
   "outputs": [
    {
     "name": "stdout",
     "output_type": "stream",
     "text": [
      "W(100, 200, 0.5) = 349090.76201554306\n"
     ]
    }
   ],
   "source": [
    "import math\n",
    "\n",
    "def strawberries(x, y, t):\n",
    "  \"\"\"\n",
    "  Calculates the value of W(x, y) based on the equation from the image.\n",
    "\n",
    "  Args:\n",
    "    x: The x-coordinate.\n",
    "    y: The y-coordinate.\n",
    "    t: A parameter 't' appearing in the equation (its specific meaning\n",
    "       or value depends on the context of the original source).\n",
    "\n",
    "  Returns:\n",
    "    The calculated value of W(x, y).\n",
    "  \"\"\"\n",
    "  total_sum = 0.0\n",
    "  for k in range(1, 201):\n",
    "    angle1_base = 2 * k / 25.0\n",
    "    angle2_base = 2 * math.pi * t / 25.0\n",
    "    angle3_base = k * math.pi / 64.0\n",
    "\n",
    "    term1_arg = angle1_base * (math.cos(angle2_base) * x + math.sin(angle2_base) * y) + 2 * math.sin(angle3_base)\n",
    "    term2_arg = angle1_base * (math.cos(angle2_base) * y - math.sin(angle2_base) * x) + 2 * math.sin(angle3_base)\n",
    "\n",
    "    exponent_numerator = (math.cos(term1_arg) +\n",
    "                          math.cos(term2_arg)**2 -\n",
    "                          100)\n",
    "    \n",
    "    term_k = math.exp(-3.0 * exponent_numerator / 40.0)\n",
    "    total_sum += term_k\n",
    "\n",
    "  return total_sum\n",
    "\n",
    "\n",
    "x_val = 100\n",
    "y_val = 200\n",
    "t_val = 0.5\n",
    "result = strawberries(x_val, y_val, t_val)\n",
    "print(f\"W({x_val}, {y_val}, {t_val}) = {result}\")"
   ]
  },
  {
   "cell_type": "code",
   "execution_count": null,
   "id": "f5465fe6",
   "metadata": {},
   "outputs": [
    {
     "name": "stdout",
     "output_type": "stream",
     "text": [
      "Painting saved to: strawberry_painting.png\n",
      "Painting saved to: strawberry_painting_t5.png\n",
      "Painting saved to: strawberry_painting_t10.png\n"
     ]
    }
   ],
   "source": [
    "import math\n",
    "import numpy as np\n",
    "import matplotlib.pyplot as plt\n",
    "from PIL import Image\n",
    "\n",
    "def visualize_strawberries(t, width=500, height=500, color_map='viridis', output_path='strawberry_painting.png'):\n",
    "    \"\"\"\n",
    "    Visualizes the 'strawberries' function as a painting.\n",
    "\n",
    "    Args:\n",
    "        t: The parameter 't' to use in the function.\n",
    "        width: The width of the output image in pixels.\n",
    "        height: The height of the output image in pixels.\n",
    "        color_map: The matplotlib colormap to use for visualization.\n",
    "                   See https://matplotlib.org/stable/gallery/color/colormap_reference.html\n",
    "                   for available colormaps.\n",
    "        output_path: The path to save the generated image.\n",
    "    \"\"\"\n",
    "    x_coords = np.linspace(-5, 5, width)\n",
    "    y_coords = np.linspace(-5, 5, height)\n",
    "    X, Y = np.meshgrid(x_coords, y_coords)\n",
    "    Z = np.vectorize(strawberries)(X, Y, t)\n",
    "\n",
    "    plt.figure(figsize=(width/100, height/100), dpi=100) # Adjust figure size for image dimensions\n",
    "    plt.imshow(Z, cmap=color_map, extent=[x_coords.min(), x_coords.max(), y_coords.min(), y_coords.max()], origin='lower')\n",
    "    plt.colorbar(label='Value of W(x, y)')\n",
    "    plt.title(f\"Strawberry Function Visualization (t={t})\")\n",
    "    plt.xlabel(\"x\")\n",
    "    plt.ylabel(\"y\")\n",
    "    plt.axis('off') # Turn off axis labels and ticks\n",
    "    plt.tight_layout()\n",
    "    plt.savefig(output_path)\n",
    "    plt.show()\n",
    "\n",
    "visualize_strawberries(t_value)"
   ]
  }
 ],
 "metadata": {
  "kernelspec": {
   "display_name": "mathematical_image_synthesis_env",
   "language": "python",
   "name": "python3"
  },
  "language_info": {
   "codemirror_mode": {
    "name": "ipython",
    "version": 3
   },
   "file_extension": ".py",
   "mimetype": "text/x-python",
   "name": "python",
   "nbconvert_exporter": "python",
   "pygments_lexer": "ipython3",
   "version": "3.10.6"
  }
 },
 "nbformat": 4,
 "nbformat_minor": 5
}
